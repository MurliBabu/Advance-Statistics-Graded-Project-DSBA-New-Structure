{
 "cells": [
  {
   "cell_type": "code",
   "execution_count": 96,
   "id": "62d5d47a",
   "metadata": {},
   "outputs": [],
   "source": [
    "import pandas as pd  \n",
    "import numpy as np  \n",
    "import matplotlib.pyplot as plt \n",
    "import seaborn as sns  \n",
    "from scipy.stats import norm\n",
    "from scipy.stats import ttest_1samp,ttest_ind\n",
    "\n",
    "%matplotlib inline\n",
    "\n",
    "import scipy.stats as stats \n",
    "\n",
    "from statsmodels.formula.api import ols     \n",
    "from statsmodels.stats.anova import _get_covariance,anova_lm "
   ]
  },
  {
   "cell_type": "markdown",
   "id": "b83c3b9f",
   "metadata": {},
   "source": [
    "Problem 1\n",
    "\n",
    "A physiotherapist with a male football team is interested in studying the relationship between foot injuries and the positions at which the players play from the data collected\n",
    "\n",
    "1.1 What is the probability that a randomly chosen player would suffer an injury?"
   ]
  },
  {
   "cell_type": "code",
   "execution_count": 97,
   "id": "15cc9bee",
   "metadata": {},
   "outputs": [
    {
     "name": "stdout",
     "output_type": "stream",
     "text": [
      "Probability that a randomly chosen player would suffer an injury is 61.7%\n"
     ]
    }
   ],
   "source": [
    "Striker_Injured=45\n",
    "Forward_Injured=56\n",
    "Attacking_Midfielder_Injured=24\n",
    "Winger_Injured=20\n",
    "Total_Injured=145\n",
    "Total_Players=235\n",
    "Total_Striker=77\n",
    "Total_Forward=94\n",
    "Total_Attacking_Midfielder=35\n",
    "Total_Winger=29\n",
    "Total_Players_Injured=145\n",
    "Total_Players_NotInjured=90\n",
    "Random_Player_Suffer_Injury = round(Total_Injured/Total_Players,4)*100\n",
    "print('Probability that a randomly chosen player would suffer an injury is %1.1f' % Random_Player_Suffer_Injury +'%')"
   ]
  },
  {
   "cell_type": "markdown",
   "id": "0d21b66a",
   "metadata": {},
   "source": [
    "1.2 What is the probability that a player is a forward or a winger?"
   ]
  },
  {
   "cell_type": "code",
   "execution_count": 98,
   "id": "6076b41a",
   "metadata": {},
   "outputs": [
    {
     "name": "stdout",
     "output_type": "stream",
     "text": [
      "Probability that a player is a forward or a winger is 52.3%\n"
     ]
    }
   ],
   "source": [
    "Prob_Player = round((Total_Forward+Total_Winger)/(Total_Players),4)*100\n",
    "print('Probability that a player is a forward or a winger is %1.1f' % Prob_Player +'%')"
   ]
  },
  {
   "cell_type": "markdown",
   "id": "a01f125d",
   "metadata": {},
   "source": [
    "1.3 What is the probability that a randomly chosen player plays in a striker position and has a foot injury?"
   ]
  },
  {
   "cell_type": "code",
   "execution_count": 99,
   "id": "31c75948",
   "metadata": {},
   "outputs": [
    {
     "name": "stdout",
     "output_type": "stream",
     "text": [
      "Probability that a randomly chosen player plays in a striker position and has a foot injury is 31.0%\n"
     ]
    }
   ],
   "source": [
    "Prob_Player1 = round(Striker_Injured/Total_Players_Injured,4)*100\n",
    "print('Probability that a randomly chosen player plays in a striker position and has a foot injury is %1.1f' % Prob_Player1 +'%')"
   ]
  },
  {
   "cell_type": "markdown",
   "id": "aef6f9f7",
   "metadata": {},
   "source": [
    "1.4 What is the probability that a randomly chosen injured player is a striker?"
   ]
  },
  {
   "cell_type": "code",
   "execution_count": 100,
   "id": "320a9cc4",
   "metadata": {},
   "outputs": [
    {
     "name": "stdout",
     "output_type": "stream",
     "text": [
      "Probability that a randomly chosen injured player is a striker is 58.4%\n"
     ]
    }
   ],
   "source": [
    "Prob_Player2 = round(Striker_Injured/Total_Striker,4)*100\n",
    "print('Probability that a randomly chosen injured player is a striker is %1.1f' % Prob_Player2 +'%')"
   ]
  },
  {
   "cell_type": "markdown",
   "id": "58c4a8f7",
   "metadata": {},
   "source": [
    "1.5 What is the probability that a randomly chosen injured player is either a forward or an attacking midfielder? "
   ]
  },
  {
   "cell_type": "code",
   "execution_count": 101,
   "id": "0f31f888",
   "metadata": {},
   "outputs": [
    {
     "name": "stdout",
     "output_type": "stream",
     "text": [
      "Probability that a randomly chosen injured player is either a forward or an attacking midfielder is 62.0%\n"
     ]
    }
   ],
   "source": [
    "Prob_Player3 = round((Forward_Injured+Attacking_Midfielder_Injured)/(Total_Forward+Total_Attacking_Midfielder),4)*100\n",
    "print('Probability that a randomly chosen injured player is either a forward or an attacking midfielder is %1.1f' % Prob_Player3 +'%')"
   ]
  },
  {
   "cell_type": "code",
   "execution_count": null,
   "id": "cece4239",
   "metadata": {},
   "outputs": [],
   "source": []
  },
  {
   "cell_type": "code",
   "execution_count": null,
   "id": "9699ed1b",
   "metadata": {},
   "outputs": [],
   "source": []
  },
  {
   "cell_type": "code",
   "execution_count": null,
   "id": "11a43be3",
   "metadata": {},
   "outputs": [],
   "source": []
  },
  {
   "cell_type": "markdown",
   "id": "e699e295",
   "metadata": {},
   "source": [
    "Problem 2\n",
    "\n",
    "An independent research organization is trying to estimate the probability that an accident at a nuclear power plant will result in radiation leakage. The types of accidents possible at the plant are, fire hazards, mechanical failure, or human error. The research organization also knows that two or more types of accidents cannot occur simultaneously.\n",
    "\n",
    "According to the studies carried out by the organization, the probability of a radiation leak in case of a fire is 20%, the probability of a radiation leak in case of a mechanical 50%, and the probability of a radiation leak in case of a human error is 10%. The studies also showed the following;\n",
    "\n",
    "The probability of a radiation leak occurring simultaneously with a fire is 0.1%.\n",
    "The probability of a radiation leak occurring simultaneously with a mechanical failure is 0.15%.\n",
    "The probability of a radiation leak occurring simultaneously with a human error is 0.12%.\n",
    "On the basis of the information available, answer the questions below:\n",
    "\n",
    "2.1 What are the probabilities of a fire, a mechanical failure, and a human error respectively?"
   ]
  },
  {
   "cell_type": "code",
   "execution_count": 102,
   "id": "326bd807",
   "metadata": {},
   "outputs": [],
   "source": [
    "Prob_of_fire=0.20\n",
    "Prob_of_leak_fire=0.1\n",
    "Prob_of_mechanical_failure=0.50\n",
    "Prob_of_leak_mechanical_failure=0.15\n",
    "Prob_of_human_error=0.10\n",
    "Prob_of_leak_human_error=0.12"
   ]
  },
  {
   "cell_type": "code",
   "execution_count": 103,
   "id": "d1dc3906",
   "metadata": {},
   "outputs": [
    {
     "name": "stdout",
     "output_type": "stream",
     "text": [
      "Probability of fire error is 10.0%\n"
     ]
    }
   ],
   "source": [
    "Fire_prob= round((0.20*0.1)/0.20,4)*100\n",
    "print('Probability of fire error is %1.1f' % Fire_prob +'%')"
   ]
  },
  {
   "cell_type": "code",
   "execution_count": 104,
   "id": "8a1643b7",
   "metadata": {},
   "outputs": [
    {
     "name": "stdout",
     "output_type": "stream",
     "text": [
      "Probability of mechnaical failure is 15.0%\n"
     ]
    }
   ],
   "source": [
    "mechanical_failure_prob= round((0.50*0.15)/0.50,4)*100\n",
    "print('Probability of mechnaical failure is %1.1f' % mechanical_failure_prob +'%')"
   ]
  },
  {
   "cell_type": "code",
   "execution_count": 105,
   "id": "8aaaeb9a",
   "metadata": {},
   "outputs": [
    {
     "name": "stdout",
     "output_type": "stream",
     "text": [
      "Probability of human error is 12.0%\n"
     ]
    }
   ],
   "source": [
    "human_error_prob= round((0.10*0.12)/0.10,4)*100\n",
    "print('Probability of human error is %1.1f' % human_error_prob +'%')"
   ]
  },
  {
   "cell_type": "markdown",
   "id": "e8231637",
   "metadata": {},
   "source": [
    "2.2 What is the probability of a radiation leak?"
   ]
  },
  {
   "cell_type": "code",
   "execution_count": 106,
   "id": "35177a32",
   "metadata": {},
   "outputs": [
    {
     "name": "stdout",
     "output_type": "stream",
     "text": [
      "Probability of radiation leak is 10.7%\n"
     ]
    }
   ],
   "source": [
    "Prob=round((0.20*0.1+0.50*0.15+0.10*0.12),4)*100\n",
    "print('Probability of radiation leak is %1.1f' % Prob +'%')"
   ]
  },
  {
   "cell_type": "markdown",
   "id": "3331ce6f",
   "metadata": {},
   "source": [
    "2.3 Suppose there has been a radiation leak in the reactor for which the definite cause is not known. What is the probability that it has been caused by:\n",
    "\n",
    "A Fire.\n",
    "A Mechanical Failure.\n",
    "A Human Error."
   ]
  },
  {
   "cell_type": "markdown",
   "id": "e9ed598e",
   "metadata": {},
   "source": [
    "Ans : 0 \n",
    "\n",
    "In the problem statement it states that no 2 or more accidents will never occur together, so that probability will be 0 because we can't have all the 3 of them reacting at the same time."
   ]
  },
  {
   "cell_type": "code",
   "execution_count": null,
   "id": "386530a8",
   "metadata": {},
   "outputs": [],
   "source": []
  },
  {
   "cell_type": "code",
   "execution_count": null,
   "id": "5bb4d677",
   "metadata": {},
   "outputs": [],
   "source": []
  },
  {
   "cell_type": "code",
   "execution_count": null,
   "id": "0f0b323b",
   "metadata": {},
   "outputs": [],
   "source": []
  },
  {
   "cell_type": "markdown",
   "id": "3f4c77ff",
   "metadata": {},
   "source": [
    "Problem 3:\n",
    "\n",
    "The breaking strength of gunny bags used for packaging cement is normally distributed with a mean of 5 kg per sq. centimeter and a standard deviation of 1.5 kg per sq. centimeter. The quality team of the cement company wants to know the following about the packaging material to better understand wastage or pilferage within the supply chain; Answer the questions below based on the given information;"
   ]
  },
  {
   "cell_type": "markdown",
   "id": "f7a43bd2",
   "metadata": {},
   "source": [
    "3.1 What proportion of the gunny bags have a breaking strength less than 3.17 kg per sq cm?"
   ]
  },
  {
   "cell_type": "code",
   "execution_count": 107,
   "id": "5697382a",
   "metadata": {},
   "outputs": [],
   "source": [
    "m=(3.17-5)/1.5"
   ]
  },
  {
   "cell_type": "code",
   "execution_count": 108,
   "id": "b756eb3c",
   "metadata": {},
   "outputs": [
    {
     "data": {
      "text/plain": [
       "-1.22"
      ]
     },
     "execution_count": 108,
     "metadata": {},
     "output_type": "execute_result"
    }
   ],
   "source": [
    "m"
   ]
  },
  {
   "cell_type": "code",
   "execution_count": 109,
   "id": "d716dec0",
   "metadata": {},
   "outputs": [
    {
     "data": {
      "text/plain": [
       "11.12"
      ]
     },
     "execution_count": 109,
     "metadata": {},
     "output_type": "execute_result"
    }
   ],
   "source": [
    "a=round(stats.norm.cdf(-1.22),4)*100\n",
    "a"
   ]
  },
  {
   "cell_type": "code",
   "execution_count": 110,
   "id": "b17b7d3c",
   "metadata": {},
   "outputs": [
    {
     "name": "stdout",
     "output_type": "stream",
     "text": [
      "Proportion of the gunny bags have a breaking strength less than 3.17 kg per sq cm is 11.12%\n"
     ]
    }
   ],
   "source": [
    "print('Proportion of the gunny bags have a breaking strength less than 3.17 kg per sq cm is %1.2f' % a +'%')"
   ]
  },
  {
   "cell_type": "markdown",
   "id": "a0ab18d3",
   "metadata": {},
   "source": [
    "3.1 Visual representation"
   ]
  },
  {
   "cell_type": "code",
   "execution_count": 111,
   "id": "49c8dd9b",
   "metadata": {},
   "outputs": [
    {
     "data": {
      "image/png": "[encoded data removed]",
      "text/plain": [
       "<Figure size 432x288 with 1 Axes>"
      ]
     },
     "metadata": {
      "needs_background": "light"
     },
     "output_type": "display_data"
    }
   ],
   "source": [
    "fig, ax = plt.subplots()\n",
    "x = np.linspace(-4,4,50)\n",
    "ax.plot(x, norm.pdf(x, loc = 0, scale = 1), color = 'b')\n",
    "ax.set_title('Normal Distribution')\n",
    "ax.set_xlabel('Z-score')\n",
    "ax.set_ylabel('Probability')\n",
    "ax.axvline(-1.22, color='r')\n",
    "plt.show()"
   ]
  },
  {
   "cell_type": "markdown",
   "id": "ffa6216d",
   "metadata": {},
   "source": [
    "3.2 What proportion of the gunny bags have a breaking strength at least 3.6 kg per sq cm.?"
   ]
  },
  {
   "cell_type": "code",
   "execution_count": 112,
   "id": "cd64a567",
   "metadata": {},
   "outputs": [
    {
     "data": {
      "text/plain": [
       "-0.9333333333333332"
      ]
     },
     "execution_count": 112,
     "metadata": {},
     "output_type": "execute_result"
    }
   ],
   "source": [
    "m1=(3.6-5)/1.5\n",
    "m1"
   ]
  },
  {
   "cell_type": "code",
   "execution_count": 113,
   "id": "9d06de6c",
   "metadata": {},
   "outputs": [
    {
     "data": {
      "text/plain": [
       "0.8246760551477705"
      ]
     },
     "execution_count": 113,
     "metadata": {},
     "output_type": "execute_result"
    }
   ],
   "source": [
    "1 - stats.norm.cdf(-0.9333333333333332)"
   ]
  },
  {
   "cell_type": "markdown",
   "id": "6c1a69d9",
   "metadata": {},
   "source": [
    "Ans : Proportion of the gunny bags have a breaking strength at least 3.6 kg per sq cm is 82.47%"
   ]
  },
  {
   "cell_type": "markdown",
   "id": "957c026f",
   "metadata": {},
   "source": [
    "3.2 Visual representation"
   ]
  },
  {
   "cell_type": "code",
   "execution_count": 114,
   "id": "63204609",
   "metadata": {},
   "outputs": [
    {
     "data": {
      "image/png": "[encoded data removed]",
      "text/plain": [
       "<Figure size 432x288 with 1 Axes>"
      ]
     },
     "metadata": {
      "needs_background": "light"
     },
     "output_type": "display_data"
    }
   ],
   "source": [
    "fig, ax = plt.subplots()\n",
    "x = np.linspace(-4,4,50)\n",
    "ax.plot(x, norm.pdf(x, loc = 0, scale = 1), color = 'black')\n",
    "ax.set_title('Normal Distribution')\n",
    "ax.set_xlabel('Z-score')\n",
    "ax.set_ylabel('Probability')\n",
    "ax.axvline(-0.933, color = 'g')\n",
    "plt.show()"
   ]
  },
  {
   "cell_type": "markdown",
   "id": "6f29fbe3",
   "metadata": {},
   "source": [
    "3.3 What proportion of the gunny bags have a breaking strength between 5 and 5.5 kg per sq cm.?"
   ]
  },
  {
   "cell_type": "code",
   "execution_count": 115,
   "id": "df7bc73b",
   "metadata": {},
   "outputs": [
    {
     "data": {
      "text/plain": [
       "0.0"
      ]
     },
     "execution_count": 115,
     "metadata": {},
     "output_type": "execute_result"
    }
   ],
   "source": [
    "m2= (5-5)/1.5\n",
    "m2"
   ]
  },
  {
   "cell_type": "code",
   "execution_count": 116,
   "id": "a80d8be5",
   "metadata": {},
   "outputs": [
    {
     "data": {
      "text/plain": [
       "0.3333333333333333"
      ]
     },
     "execution_count": 116,
     "metadata": {},
     "output_type": "execute_result"
    }
   ],
   "source": [
    "m3= (5.5-5)/1.5\n",
    "m3"
   ]
  },
  {
   "cell_type": "code",
   "execution_count": 117,
   "id": "839fcc8d",
   "metadata": {},
   "outputs": [
    {
     "data": {
      "text/plain": [
       "0.13055865981823633"
      ]
     },
     "execution_count": 117,
     "metadata": {},
     "output_type": "execute_result"
    }
   ],
   "source": [
    "stats.norm.cdf(m3) - stats.norm.cdf(m2)"
   ]
  },
  {
   "cell_type": "markdown",
   "id": "ec28a4e9",
   "metadata": {},
   "source": [
    "Ans : Proportion of the gunny bags have a breaking strength between 5 and 5.5 kg per sq cm is 13.06%"
   ]
  },
  {
   "cell_type": "markdown",
   "id": "fc24b2e6",
   "metadata": {},
   "source": [
    "3.3 Visual representation"
   ]
  },
  {
   "cell_type": "code",
   "execution_count": 118,
   "id": "eace0925",
   "metadata": {},
   "outputs": [
    {
     "data": {
      "image/png": "[encoded data removed]",
      "text/plain": [
       "<Figure size 432x288 with 1 Axes>"
      ]
     },
     "metadata": {
      "needs_background": "light"
     },
     "output_type": "display_data"
    }
   ],
   "source": [
    "fig, ax = plt.subplots()\n",
    "x = np.linspace(-4,4,50)\n",
    "ax.plot(x, norm.pdf(x, loc = 0, scale = 1), color = 'r')\n",
    "ax.set_title('Normal Distribution')\n",
    "ax.set_xlabel('Z-score')\n",
    "ax.set_ylabel('Probability')\n",
    "ax.axvline(0.0 , color = 'blue')\n",
    "ax.axvline(0.33, color = 'black')\n",
    "plt.show()"
   ]
  },
  {
   "cell_type": "markdown",
   "id": "a322b512",
   "metadata": {},
   "source": [
    "3.4 What proportion of the gunny bags have a breaking strength NOT between 3 and 7.5 kg per sq cm.?"
   ]
  },
  {
   "cell_type": "code",
   "execution_count": 119,
   "id": "ff4499d5",
   "metadata": {},
   "outputs": [
    {
     "data": {
      "text/plain": [
       "-1.3333333333333333"
      ]
     },
     "execution_count": 119,
     "metadata": {},
     "output_type": "execute_result"
    }
   ],
   "source": [
    "m4= (3-5)/1.5\n",
    "m4"
   ]
  },
  {
   "cell_type": "code",
   "execution_count": 120,
   "id": "2aad22f1",
   "metadata": {},
   "outputs": [
    {
     "data": {
      "text/plain": [
       "1.6666666666666667"
      ]
     },
     "execution_count": 120,
     "metadata": {},
     "output_type": "execute_result"
    }
   ],
   "source": [
    "m5= (7.5-5)/1.5\n",
    "m5"
   ]
  },
  {
   "cell_type": "code",
   "execution_count": 121,
   "id": "373fc21f",
   "metadata": {},
   "outputs": [
    {
     "data": {
      "text/plain": [
       "0.8609984280013174"
      ]
     },
     "execution_count": 121,
     "metadata": {},
     "output_type": "execute_result"
    }
   ],
   "source": [
    "stats.norm.cdf(m5) - stats.norm.cdf(m4)"
   ]
  },
  {
   "cell_type": "code",
   "execution_count": 122,
   "id": "76324ac1",
   "metadata": {},
   "outputs": [
    {
     "data": {
      "text/plain": [
       "0.13900157199868257"
      ]
     },
     "execution_count": 122,
     "metadata": {},
     "output_type": "execute_result"
    }
   ],
   "source": [
    "1 - 0.8609984280013174"
   ]
  },
  {
   "cell_type": "markdown",
   "id": "80c8ff26",
   "metadata": {},
   "source": [
    "Ans : Proportion of the gunny bags have a breaking strength NOT between 3 and 7.5 kg per sq cm is 13.90%"
   ]
  },
  {
   "cell_type": "markdown",
   "id": "0eabb235",
   "metadata": {},
   "source": [
    "3.4 Visual representation"
   ]
  },
  {
   "cell_type": "code",
   "execution_count": 123,
   "id": "241cdfb3",
   "metadata": {},
   "outputs": [
    {
     "data": {
      "image/png": "[encoded data removed]",
      "text/plain": [
       "<Figure size 432x288 with 1 Axes>"
      ]
     },
     "metadata": {
      "needs_background": "light"
     },
     "output_type": "display_data"
    }
   ],
   "source": [
    "fig, ax = plt.subplots()\n",
    "x = np.linspace(-4,4,50)\n",
    "ax.plot(x, norm.pdf(x, loc = 0, scale = 1), color = 'g')\n",
    "ax.set_title('Normal Distribution')\n",
    "ax.set_xlabel('Z-score')\n",
    "ax.set_ylabel('Probability')\n",
    "ax.axvline(-1.33, color = 'red')\n",
    "ax.axvline(1.66, color = 'blue')\n",
    "plt.show()"
   ]
  },
  {
   "cell_type": "code",
   "execution_count": null,
   "id": "66428d2d",
   "metadata": {},
   "outputs": [],
   "source": []
  },
  {
   "cell_type": "code",
   "execution_count": null,
   "id": "389d97c9",
   "metadata": {},
   "outputs": [],
   "source": []
  },
  {
   "cell_type": "code",
   "execution_count": null,
   "id": "7ececc95",
   "metadata": {},
   "outputs": [],
   "source": []
  },
  {
   "cell_type": "markdown",
   "id": "d87e502a",
   "metadata": {},
   "source": [
    "Problem 4\n",
    "\n",
    "Grades of the final examination in a training course are found to be normally distributed, with a mean of 77 and a standard deviation of 8.5. Based on the given information answer the questions below.\n",
    "\n",
    " \n",
    "\n",
    "4.1 What is the probability that a randomly chosen student gets a grade below 85 on this exam?"
   ]
  },
  {
   "cell_type": "code",
   "execution_count": 124,
   "id": "2fc77e9b",
   "metadata": {},
   "outputs": [],
   "source": [
    "mu=77\n",
    "sigma=8.5"
   ]
  },
  {
   "cell_type": "code",
   "execution_count": 125,
   "id": "71939c89",
   "metadata": {},
   "outputs": [
    {
     "name": "stdout",
     "output_type": "stream",
     "text": [
      "The probability that a randomly chosen student gets a grade below 85 on this exam is 82.67\n"
     ]
    }
   ],
   "source": [
    "prob_less_than_85 = norm.cdf(85, 77, 8.5)\n",
    "print(\n",
    "    \"The probability that a randomly chosen student gets a grade below 85 on this exam is\",\n",
    "    round(stats.norm.cdf(0.9411764705882353),4)*100,\n",
    ")"
   ]
  },
  {
   "cell_type": "markdown",
   "id": "6495ccf7",
   "metadata": {},
   "source": [
    "4.2 What is the probability that a randomly selected student scores between 65 and 87?"
   ]
  },
  {
   "cell_type": "code",
   "execution_count": 126,
   "id": "e3370127",
   "metadata": {},
   "outputs": [
    {
     "data": {
      "text/plain": [
       "-1.411764705882353"
      ]
     },
     "execution_count": 126,
     "metadata": {},
     "output_type": "execute_result"
    }
   ],
   "source": [
    "m6= (65-77)/8.5\n",
    "m6"
   ]
  },
  {
   "cell_type": "code",
   "execution_count": 127,
   "id": "f0fd63f0",
   "metadata": {},
   "outputs": [
    {
     "data": {
      "text/plain": [
       "1.1764705882352942"
      ]
     },
     "execution_count": 127,
     "metadata": {},
     "output_type": "execute_result"
    }
   ],
   "source": [
    "m7=(87-77)/8.5\n",
    "m7"
   ]
  },
  {
   "cell_type": "code",
   "execution_count": 128,
   "id": "d5f6b26d",
   "metadata": {},
   "outputs": [
    {
     "data": {
      "text/plain": [
       "0.8012869336779058"
      ]
     },
     "execution_count": 128,
     "metadata": {},
     "output_type": "execute_result"
    }
   ],
   "source": [
    "stats.norm.cdf(m7) - stats.norm.cdf(m6)"
   ]
  },
  {
   "cell_type": "markdown",
   "id": "e0439699",
   "metadata": {},
   "source": [
    "Ans : Probability that a randomly selected student scores between 65 and 87 is 80%"
   ]
  },
  {
   "cell_type": "markdown",
   "id": "61506f41",
   "metadata": {},
   "source": [
    "4.3 What should be the passing cut-off so that 75% of the students clear the exam?"
   ]
  },
  {
   "cell_type": "code",
   "execution_count": 129,
   "id": "f185ea59",
   "metadata": {},
   "outputs": [
    {
     "name": "stdout",
     "output_type": "stream",
     "text": [
      "The passing cut-off should be 71\n"
     ]
    }
   ],
   "source": [
    "passing_cut_off = norm.ppf(0.25, 77, 8.5)\n",
    "print(\"The passing cut-off should be\", round(passing_cut_off))\n"
   ]
  },
  {
   "cell_type": "markdown",
   "id": "44ab1954",
   "metadata": {},
   "source": [
    "Passing cut-off so that 75% of the students clear the exam is 71"
   ]
  },
  {
   "cell_type": "code",
   "execution_count": null,
   "id": "87a4efcd",
   "metadata": {},
   "outputs": [],
   "source": []
  },
  {
   "cell_type": "code",
   "execution_count": null,
   "id": "758734e5",
   "metadata": {},
   "outputs": [],
   "source": []
  },
  {
   "cell_type": "code",
   "execution_count": null,
   "id": "3e50898d",
   "metadata": {},
   "outputs": [],
   "source": []
  },
  {
   "cell_type": "markdown",
   "id": "b2f82046",
   "metadata": {},
   "source": [
    "Problem 5\n",
    "\n",
    "Zingaro stone printing is a company that specializes in printing images or patterns on polished or unpolished stones. However, for the optimum level of printing of the image the stone surface has to have a Brinell's hardness index of at least 150. Recently, Zingaro has received a batch of polished and unpolished stones from its clients. Use the data provided to answer the following (assuming a 5% significance level);"
   ]
  },
  {
   "cell_type": "markdown",
   "id": "e2899172",
   "metadata": {},
   "source": [
    "5.1 Earlier experience of Zingaro with this particular client is favorable as the stone surface was found to be of adequate hardness. However, Zingaro has reason to believe now that the unpolished stones may not be suitable for printing. Do you think Zingaro is justified in thinking so?"
   ]
  },
  {
   "cell_type": "code",
   "execution_count": 130,
   "id": "2d37912b",
   "metadata": {},
   "outputs": [
    {
     "data": {
      "text/html": [
       "<div>\n",
       "<style scoped>\n",
       "    .dataframe tbody tr th:only-of-type {\n",
       "        vertical-align: middle;\n",
       "    }\n",
       "\n",
       "    .dataframe tbody tr th {\n",
       "        vertical-align: top;\n",
       "    }\n",
       "\n",
       "    .dataframe thead th {\n",
       "        text-align: right;\n",
       "    }\n",
       "</style>\n",
       "<table border=\"1\" class=\"dataframe\">\n",
       "  <thead>\n",
       "    <tr style=\"text-align: right;\">\n",
       "      <th></th>\n",
       "      <th>Unpolished</th>\n",
       "      <th>Treated and Polished</th>\n",
       "    </tr>\n",
       "  </thead>\n",
       "  <tbody>\n",
       "    <tr>\n",
       "      <th>0</th>\n",
       "      <td>164.481713</td>\n",
       "      <td>133.209393</td>\n",
       "    </tr>\n",
       "    <tr>\n",
       "      <th>1</th>\n",
       "      <td>154.307045</td>\n",
       "      <td>138.482771</td>\n",
       "    </tr>\n",
       "    <tr>\n",
       "      <th>2</th>\n",
       "      <td>129.861048</td>\n",
       "      <td>159.665201</td>\n",
       "    </tr>\n",
       "    <tr>\n",
       "      <th>3</th>\n",
       "      <td>159.096184</td>\n",
       "      <td>145.663528</td>\n",
       "    </tr>\n",
       "    <tr>\n",
       "      <th>4</th>\n",
       "      <td>135.256748</td>\n",
       "      <td>136.789227</td>\n",
       "    </tr>\n",
       "  </tbody>\n",
       "</table>\n",
       "</div>"
      ],
      "text/plain": [
       "   Unpolished   Treated and Polished\n",
       "0   164.481713            133.209393\n",
       "1   154.307045            138.482771\n",
       "2   129.861048            159.665201\n",
       "3   159.096184            145.663528\n",
       "4   135.256748            136.789227"
      ]
     },
     "execution_count": 130,
     "metadata": {},
     "output_type": "execute_result"
    }
   ],
   "source": [
    "df = pd.read_csv('Zingaro_Company.csv')\n",
    "df.head()"
   ]
  },
  {
   "cell_type": "code",
   "execution_count": 131,
   "id": "05ae300e",
   "metadata": {},
   "outputs": [
    {
     "data": {
      "text/plain": [
       "Index(['Unpolished ', 'Treated and Polished'], dtype='object')"
      ]
     },
     "execution_count": 131,
     "metadata": {},
     "output_type": "execute_result"
    }
   ],
   "source": [
    "df.columns"
   ]
  },
  {
   "cell_type": "markdown",
   "id": "c8e2d924",
   "metadata": {},
   "source": [
    "Step 1 : Define null and alternate hypothesis\n",
    "\n",
    "Null Hypothesis -  hardness index = 150.\n",
    "\n",
    "\n",
    "Alternate Hypothesis - hardness index != 150."
   ]
  },
  {
   "cell_type": "markdown",
   "id": "f0d0120b",
   "metadata": {},
   "source": [
    "Step 2 : Decide the significance level \n",
    "\n",
    "Here level of Significance as 5%"
   ]
  },
  {
   "cell_type": "markdown",
   "id": "10ec3b33",
   "metadata": {},
   "source": [
    "Step 3 : Identity the test statistic\n",
    "\n",
    "Here we can see that we have 2 samples and standard deviation is not known and sample sizes are same for both the samples. "
   ]
  },
  {
   "cell_type": "markdown",
   "id": "7658bef1",
   "metadata": {},
   "source": [
    "Step 4 : Calculate p value and test statistic"
   ]
  },
  {
   "cell_type": "markdown",
   "id": "2d0cd3f3",
   "metadata": {},
   "source": [
    "We first calculate xbar1 , xbar2 , variance1 , variance2 , number of values , degree of freedom value so using all these values we get numerator and denominator values then with the help of two sample t-test formula we can derive both p value and test statistic values. "
   ]
  },
  {
   "cell_type": "code",
   "execution_count": 132,
   "id": "d1fc587a",
   "metadata": {},
   "outputs": [
    {
     "name": "stdout",
     "output_type": "stream",
     "text": [
      "tstat -3.242232050141406\n",
      "P Value 0.001465515019462831\n"
     ]
    }
   ],
   "source": [
    "t_statistic,p_value=ttest_ind(df['Unpolished '],df['Treated and Polished'])\n",
    "print('tstat',t_statistic)\n",
    "print('P Value', p_value)"
   ]
  },
  {
   "cell_type": "markdown",
   "id": "0d8728ab",
   "metadata": {},
   "source": [
    "Step 5 : Decide to reject or accept null hypothesis"
   ]
  },
  {
   "cell_type": "code",
   "execution_count": 133,
   "id": "e101fe23",
   "metadata": {},
   "outputs": [
    {
     "name": "stdout",
     "output_type": "stream",
     "text": [
      "two-sample t-test p-value= 0.001465515019462831\n",
      "We have enough evidence to reject the null hypothesis in favour of alternative hypothesis\n",
      "We conclude that hardness index not equal to 150\n"
     ]
    }
   ],
   "source": [
    "print (\"two-sample t-test p-value=\", p_value)\n",
    "\n",
    "alpha_level = 0.05\n",
    "\n",
    "if p_value < alpha_level:\n",
    "    print('We have enough evidence to reject the null hypothesis in favour of alternative hypothesis')\n",
    "    print('We conclude that hardness index not equal to 150')\n",
    "else:\n",
    "    print('We do not have enough evidence to reject the null hypothesis in favour of alternative hypothesis')\n",
    "    print('We conclude that hardness index of at least 150')"
   ]
  },
  {
   "cell_type": "markdown",
   "id": "bd8b6475",
   "metadata": {},
   "source": [
    "Hence Zingaro statement is justified that  the unpolished stones may not be suitable for printing."
   ]
  },
  {
   "cell_type": "markdown",
   "id": "ab8a37f8",
   "metadata": {},
   "source": [
    "5.2 Is the mean hardness of the polished and unpolished stones the same?"
   ]
  },
  {
   "cell_type": "code",
   "execution_count": 134,
   "id": "7f4bc3b1",
   "metadata": {},
   "outputs": [
    {
     "data": {
      "text/plain": [
       "Unpolished              134.110527\n",
       "Treated and Polished    147.788117\n",
       "dtype: float64"
      ]
     },
     "execution_count": 134,
     "metadata": {},
     "output_type": "execute_result"
    }
   ],
   "source": [
    "df.mean(axis='index')"
   ]
  },
  {
   "cell_type": "markdown",
   "id": "7db56b9a",
   "metadata": {},
   "source": [
    "Ans : The mean hardness of the polished and unpolished stones are not the same."
   ]
  },
  {
   "cell_type": "code",
   "execution_count": null,
   "id": "e28f153e",
   "metadata": {},
   "outputs": [],
   "source": []
  },
  {
   "cell_type": "code",
   "execution_count": null,
   "id": "e25fbf73",
   "metadata": {},
   "outputs": [],
   "source": []
  },
  {
   "cell_type": "code",
   "execution_count": null,
   "id": "990e7405",
   "metadata": {},
   "outputs": [],
   "source": []
  },
  {
   "cell_type": "markdown",
   "id": "47eaca10",
   "metadata": {},
   "source": [
    "Problem 6:\n",
    "\n",
    " \n",
    "\n",
    "Aquarius health club, one of the largest and most popular cross-fit gyms in the country has been advertising a rigorous program for body conditioning. The program is considered successful if the candidate is able to do more than 5 push-ups, as compared to when he/she enrolled in the program. Using the sample data provided can you conclude whether the program is successful? (Consider the level of Significance as 5%)\n",
    "\n",
    "Note that this is a problem of the paired-t-test. Since the claim is that the training will make a difference of more than 5, the null and alternative hypotheses must be formed accordingly."
   ]
  },
  {
   "cell_type": "code",
   "execution_count": 135,
   "id": "250d7832",
   "metadata": {},
   "outputs": [
    {
     "data": {
      "text/html": [
       "<div>\n",
       "<style scoped>\n",
       "    .dataframe tbody tr th:only-of-type {\n",
       "        vertical-align: middle;\n",
       "    }\n",
       "\n",
       "    .dataframe tbody tr th {\n",
       "        vertical-align: top;\n",
       "    }\n",
       "\n",
       "    .dataframe thead th {\n",
       "        text-align: right;\n",
       "    }\n",
       "</style>\n",
       "<table border=\"1\" class=\"dataframe\">\n",
       "  <thead>\n",
       "    <tr style=\"text-align: right;\">\n",
       "      <th></th>\n",
       "      <th>Sr no.</th>\n",
       "      <th>Before</th>\n",
       "      <th>After</th>\n",
       "    </tr>\n",
       "  </thead>\n",
       "  <tbody>\n",
       "    <tr>\n",
       "      <th>0</th>\n",
       "      <td>1</td>\n",
       "      <td>39</td>\n",
       "      <td>44</td>\n",
       "    </tr>\n",
       "    <tr>\n",
       "      <th>1</th>\n",
       "      <td>2</td>\n",
       "      <td>25</td>\n",
       "      <td>25</td>\n",
       "    </tr>\n",
       "    <tr>\n",
       "      <th>2</th>\n",
       "      <td>3</td>\n",
       "      <td>39</td>\n",
       "      <td>39</td>\n",
       "    </tr>\n",
       "    <tr>\n",
       "      <th>3</th>\n",
       "      <td>4</td>\n",
       "      <td>6</td>\n",
       "      <td>13</td>\n",
       "    </tr>\n",
       "    <tr>\n",
       "      <th>4</th>\n",
       "      <td>5</td>\n",
       "      <td>40</td>\n",
       "      <td>44</td>\n",
       "    </tr>\n",
       "  </tbody>\n",
       "</table>\n",
       "</div>"
      ],
      "text/plain": [
       "   Sr no.  Before  After\n",
       "0       1      39     44\n",
       "1       2      25     25\n",
       "2       3      39     39\n",
       "3       4       6     13\n",
       "4       5      40     44"
      ]
     },
     "execution_count": 135,
     "metadata": {},
     "output_type": "execute_result"
    }
   ],
   "source": [
    "df = pd.read_csv('Aquarius_gym.csv')\n",
    "df.head()"
   ]
  },
  {
   "cell_type": "markdown",
   "id": "413619bf",
   "metadata": {},
   "source": []
  },
  {
   "cell_type": "code",
   "execution_count": 136,
   "id": "7f27fae6",
   "metadata": {},
   "outputs": [
    {
     "data": {
      "text/plain": [
       "(100, 3)"
      ]
     },
     "execution_count": 136,
     "metadata": {},
     "output_type": "execute_result"
    }
   ],
   "source": [
    "df.shape"
   ]
  },
  {
   "cell_type": "code",
   "execution_count": 137,
   "id": "6319c8e7",
   "metadata": {},
   "outputs": [
    {
     "data": {
      "text/plain": [
       "Index(['Sr no.', 'Before', 'After'], dtype='object')"
      ]
     },
     "execution_count": 137,
     "metadata": {},
     "output_type": "execute_result"
    }
   ],
   "source": [
    "df.columns"
   ]
  },
  {
   "cell_type": "markdown",
   "id": "00876df8",
   "metadata": {},
   "source": [
    "Step 1 : Define null and alternate hypothesis\n",
    "\n",
    "Null Hypothesis :  >= 5 push ups\n",
    "\n",
    "\n",
    "Alternate Hypothesis : < 5 push ups"
   ]
  },
  {
   "cell_type": "markdown",
   "id": "57cf43d3",
   "metadata": {},
   "source": [
    "Step 2 : Decide the significance level \n",
    "\n",
    "Here level of Significance as 5%"
   ]
  },
  {
   "cell_type": "markdown",
   "id": "0cf75f36",
   "metadata": {},
   "source": [
    "Step 3 : Identity the test statistic"
   ]
  },
  {
   "cell_type": "markdown",
   "id": "e556420a",
   "metadata": {},
   "source": [
    "We can observe that both the sample sizes are same and standard deviation is not known. "
   ]
  },
  {
   "cell_type": "markdown",
   "id": "e096d703",
   "metadata": {},
   "source": [
    "Step 4 : Calculate p value and test statistic"
   ]
  },
  {
   "cell_type": "code",
   "execution_count": 138,
   "id": "8990d644",
   "metadata": {},
   "outputs": [
    {
     "name": "stdout",
     "output_type": "stream",
     "text": [
      "tstat  19.323\n",
      "p-value for one-tail: 1.1460209626255983e-35\n"
     ]
    }
   ],
   "source": [
    "t_statistic,p_value = stats.ttest_rel(df['After'],df['Before'])\n",
    "print('tstat  %1.3f' % t_statistic)\n",
    "print(\"p-value for one-tail:\" , p_value/2)"
   ]
  },
  {
   "cell_type": "markdown",
   "id": "691a28d1",
   "metadata": {},
   "source": [
    "Step 5 : Decide to reject or accept null hypothesis"
   ]
  },
  {
   "cell_type": "code",
   "execution_count": 139,
   "id": "38a52a04",
   "metadata": {},
   "outputs": [
    {
     "name": "stdout",
     "output_type": "stream",
     "text": [
      "Paired two-sample t-test p-value= 1.1460209626255983e-35\n",
      "We have enough evidence to reject the null hypothesis in favour of alternative hypothesis\n"
     ]
    }
   ],
   "source": [
    "print (\"Paired two-sample t-test p-value=\", p_value/2)\n",
    "\n",
    "alpha_level = 0.05\n",
    "\n",
    "if (p_value/2) < alpha_level:\n",
    "    print('We have enough evidence to reject the null hypothesis in favour of alternative hypothesis')\n",
    "    \n",
    "else:\n",
    "    print('We do not have enough evidence to reject the null hypothesis in favour of alternative hypothesis')"
   ]
  },
  {
   "cell_type": "markdown",
   "id": "f0c21262",
   "metadata": {},
   "source": [
    "Hence we can conclude that the training will not make a difference of more than 5"
   ]
  },
  {
   "cell_type": "code",
   "execution_count": null,
   "id": "b7bb77b8",
   "metadata": {},
   "outputs": [],
   "source": []
  },
  {
   "cell_type": "code",
   "execution_count": null,
   "id": "5e55832b",
   "metadata": {},
   "outputs": [],
   "source": []
  },
  {
   "cell_type": "markdown",
   "id": "b8d4674b",
   "metadata": {},
   "source": [
    "Problem 7:\n",
    "\n",
    " \n",
    "\n",
    "Dental implant data: The hardness of metal implant in dental cavities depends on multiple factors, such as the method of implant, the temperature at which the metal is treated, the alloy used as well as on the dentists who may favour one method above another and may work better in his/her favourite method. The response is the variable of interest."
   ]
  },
  {
   "cell_type": "markdown",
   "id": "5723a005",
   "metadata": {},
   "source": [
    "7.1 Test whether there is any difference among the dentists on the implant hardness. State the null and alternative hypotheses. Note that both types of alloys cannot be considered together. You must state the null and alternative hypotheses separately for the two types of alloys.?"
   ]
  },
  {
   "cell_type": "markdown",
   "id": "568329ed",
   "metadata": {},
   "source": [
    "The Hypothesis for alloy 1 are:\n",
    "    \n",
    "Null Hypothesis : The hardness of metal implant in dental cavities depends on factors like method , temperature and the alloy type is same. \n",
    "\n",
    "\n",
    "Alternate Hypothesis : At least one mthod of treating the metal based on factors like method , temperature and the alloy type is different."
   ]
  },
  {
   "cell_type": "markdown",
   "id": "069f37fd",
   "metadata": {},
   "source": [
    "The Hypothesis for alloy 2 are:\n",
    "    \n",
    "Null Hypothesis : The alloy used on the dentists who may favour one method above another and may work better in their favourite method.\n",
    "\n",
    "\n",
    "Alternate Hypothesis : At least one method may not favour above another and will not work better in their favourite method. "
   ]
  },
  {
   "cell_type": "code",
   "execution_count": 140,
   "id": "b9056e69",
   "metadata": {},
   "outputs": [
    {
     "data": {
      "text/html": [
       "<div>\n",
       "<style scoped>\n",
       "    .dataframe tbody tr th:only-of-type {\n",
       "        vertical-align: middle;\n",
       "    }\n",
       "\n",
       "    .dataframe tbody tr th {\n",
       "        vertical-align: top;\n",
       "    }\n",
       "\n",
       "    .dataframe thead th {\n",
       "        text-align: right;\n",
       "    }\n",
       "</style>\n",
       "<table border=\"1\" class=\"dataframe\">\n",
       "  <thead>\n",
       "    <tr style=\"text-align: right;\">\n",
       "      <th></th>\n",
       "      <th>Dentist</th>\n",
       "      <th>Method</th>\n",
       "      <th>Alloy</th>\n",
       "      <th>Temp</th>\n",
       "      <th>Response</th>\n",
       "    </tr>\n",
       "  </thead>\n",
       "  <tbody>\n",
       "    <tr>\n",
       "      <th>0</th>\n",
       "      <td>1</td>\n",
       "      <td>1</td>\n",
       "      <td>1</td>\n",
       "      <td>1500</td>\n",
       "      <td>813</td>\n",
       "    </tr>\n",
       "    <tr>\n",
       "      <th>1</th>\n",
       "      <td>1</td>\n",
       "      <td>1</td>\n",
       "      <td>1</td>\n",
       "      <td>1600</td>\n",
       "      <td>792</td>\n",
       "    </tr>\n",
       "    <tr>\n",
       "      <th>2</th>\n",
       "      <td>1</td>\n",
       "      <td>1</td>\n",
       "      <td>1</td>\n",
       "      <td>1700</td>\n",
       "      <td>792</td>\n",
       "    </tr>\n",
       "    <tr>\n",
       "      <th>3</th>\n",
       "      <td>1</td>\n",
       "      <td>1</td>\n",
       "      <td>2</td>\n",
       "      <td>1500</td>\n",
       "      <td>907</td>\n",
       "    </tr>\n",
       "    <tr>\n",
       "      <th>4</th>\n",
       "      <td>1</td>\n",
       "      <td>1</td>\n",
       "      <td>2</td>\n",
       "      <td>1600</td>\n",
       "      <td>792</td>\n",
       "    </tr>\n",
       "  </tbody>\n",
       "</table>\n",
       "</div>"
      ],
      "text/plain": [
       "   Dentist  Method  Alloy  Temp  Response\n",
       "0        1       1      1  1500       813\n",
       "1        1       1      1  1600       792\n",
       "2        1       1      1  1700       792\n",
       "3        1       1      2  1500       907\n",
       "4        1       1      2  1600       792"
      ]
     },
     "execution_count": 140,
     "metadata": {},
     "output_type": "execute_result"
    }
   ],
   "source": [
    "df = pd.read_excel('mb.xlsx')\n",
    "df.head()"
   ]
  },
  {
   "cell_type": "code",
   "execution_count": 141,
   "id": "5bdd614d",
   "metadata": {},
   "outputs": [
    {
     "name": "stdout",
     "output_type": "stream",
     "text": [
      "<class 'pandas.core.frame.DataFrame'>\n",
      "RangeIndex: 90 entries, 0 to 89\n",
      "Data columns (total 5 columns):\n",
      " #   Column    Non-Null Count  Dtype\n",
      "---  ------    --------------  -----\n",
      " 0   Dentist   90 non-null     int64\n",
      " 1   Method    90 non-null     int64\n",
      " 2   Alloy     90 non-null     int64\n",
      " 3   Temp      90 non-null     int64\n",
      " 4   Response  90 non-null     int64\n",
      "dtypes: int64(5)\n",
      "memory usage: 3.6 KB\n"
     ]
    }
   ],
   "source": [
    "df.info()"
   ]
  },
  {
   "cell_type": "markdown",
   "id": "0a492da0",
   "metadata": {},
   "source": [
    "7.2 Before the hypotheses may be tested, state the required assumptions. Are the assumptions fulfilled? Comment separately on both alloy types.? "
   ]
  },
  {
   "cell_type": "code",
   "execution_count": 142,
   "id": "cd5505d1",
   "metadata": {},
   "outputs": [
    {
     "data": {
      "text/html": [
       "<div>\n",
       "<style scoped>\n",
       "    .dataframe tbody tr th:only-of-type {\n",
       "        vertical-align: middle;\n",
       "    }\n",
       "\n",
       "    .dataframe tbody tr th {\n",
       "        vertical-align: top;\n",
       "    }\n",
       "\n",
       "    .dataframe thead th {\n",
       "        text-align: right;\n",
       "    }\n",
       "</style>\n",
       "<table border=\"1\" class=\"dataframe\">\n",
       "  <thead>\n",
       "    <tr style=\"text-align: right;\">\n",
       "      <th></th>\n",
       "      <th>df</th>\n",
       "      <th>sum_sq</th>\n",
       "      <th>mean_sq</th>\n",
       "      <th>F</th>\n",
       "      <th>PR(&gt;F)</th>\n",
       "    </tr>\n",
       "  </thead>\n",
       "  <tbody>\n",
       "    <tr>\n",
       "      <th>C(Dentist)</th>\n",
       "      <td>4.0</td>\n",
       "      <td>157794.555556</td>\n",
       "      <td>39448.638889</td>\n",
       "      <td>3.315430</td>\n",
       "      <td>1.447960e-02</td>\n",
       "    </tr>\n",
       "    <tr>\n",
       "      <th>C(Method)</th>\n",
       "      <td>2.0</td>\n",
       "      <td>593427.488889</td>\n",
       "      <td>296713.744444</td>\n",
       "      <td>24.937072</td>\n",
       "      <td>3.825529e-09</td>\n",
       "    </tr>\n",
       "    <tr>\n",
       "      <th>C(Alloy)</th>\n",
       "      <td>1.0</td>\n",
       "      <td>105815.511111</td>\n",
       "      <td>105815.511111</td>\n",
       "      <td>8.893181</td>\n",
       "      <td>3.792413e-03</td>\n",
       "    </tr>\n",
       "    <tr>\n",
       "      <th>C(Temp)</th>\n",
       "      <td>2.0</td>\n",
       "      <td>82178.022222</td>\n",
       "      <td>41089.011111</td>\n",
       "      <td>3.453293</td>\n",
       "      <td>3.643273e-02</td>\n",
       "    </tr>\n",
       "    <tr>\n",
       "      <th>Residual</th>\n",
       "      <td>80.0</td>\n",
       "      <td>951879.977778</td>\n",
       "      <td>11898.499722</td>\n",
       "      <td>NaN</td>\n",
       "      <td>NaN</td>\n",
       "    </tr>\n",
       "  </tbody>\n",
       "</table>\n",
       "</div>"
      ],
      "text/plain": [
       "              df         sum_sq        mean_sq          F        PR(>F)\n",
       "C(Dentist)   4.0  157794.555556   39448.638889   3.315430  1.447960e-02\n",
       "C(Method)    2.0  593427.488889  296713.744444  24.937072  3.825529e-09\n",
       "C(Alloy)     1.0  105815.511111  105815.511111   8.893181  3.792413e-03\n",
       "C(Temp)      2.0   82178.022222   41089.011111   3.453293  3.643273e-02\n",
       "Residual    80.0  951879.977778   11898.499722        NaN           NaN"
      ]
     },
     "execution_count": 142,
     "metadata": {},
     "output_type": "execute_result"
    }
   ],
   "source": [
    "formula = 'Response ~ C(Dentist) + C(Method) + C(Alloy) + C(Temp)'\n",
    "model = ols(formula, df).fit()\n",
    "aov_table = anova_lm(model)\n",
    "(aov_table)"
   ]
  },
  {
   "cell_type": "code",
   "execution_count": 143,
   "id": "737308bf",
   "metadata": {},
   "outputs": [
    {
     "data": {
      "text/html": [
       "<div>\n",
       "<style scoped>\n",
       "    .dataframe tbody tr th:only-of-type {\n",
       "        vertical-align: middle;\n",
       "    }\n",
       "\n",
       "    .dataframe tbody tr th {\n",
       "        vertical-align: top;\n",
       "    }\n",
       "\n",
       "    .dataframe thead th {\n",
       "        text-align: right;\n",
       "    }\n",
       "</style>\n",
       "<table border=\"1\" class=\"dataframe\">\n",
       "  <thead>\n",
       "    <tr style=\"text-align: right;\">\n",
       "      <th></th>\n",
       "      <th>df</th>\n",
       "      <th>sum_sq</th>\n",
       "      <th>mean_sq</th>\n",
       "      <th>F</th>\n",
       "      <th>PR(&gt;F)</th>\n",
       "    </tr>\n",
       "  </thead>\n",
       "  <tbody>\n",
       "    <tr>\n",
       "      <th>C(Dentist)</th>\n",
       "      <td>4.0</td>\n",
       "      <td>157794.555556</td>\n",
       "      <td>39448.638889</td>\n",
       "      <td>4.503033</td>\n",
       "      <td>3.089511e-03</td>\n",
       "    </tr>\n",
       "    <tr>\n",
       "      <th>C(Method)</th>\n",
       "      <td>2.0</td>\n",
       "      <td>593427.488889</td>\n",
       "      <td>296713.744444</td>\n",
       "      <td>33.869656</td>\n",
       "      <td>1.797838e-10</td>\n",
       "    </tr>\n",
       "    <tr>\n",
       "      <th>C(Alloy)</th>\n",
       "      <td>1.0</td>\n",
       "      <td>105815.511111</td>\n",
       "      <td>105815.511111</td>\n",
       "      <td>12.078763</td>\n",
       "      <td>9.723101e-04</td>\n",
       "    </tr>\n",
       "    <tr>\n",
       "      <th>C(Temp)</th>\n",
       "      <td>2.0</td>\n",
       "      <td>82178.022222</td>\n",
       "      <td>41089.011111</td>\n",
       "      <td>4.690280</td>\n",
       "      <td>1.293921e-02</td>\n",
       "    </tr>\n",
       "    <tr>\n",
       "      <th>C(Dentist):C(Method):C(Alloy)</th>\n",
       "      <td>22.0</td>\n",
       "      <td>443773.333333</td>\n",
       "      <td>20171.515152</td>\n",
       "      <td>2.302564</td>\n",
       "      <td>5.954248e-03</td>\n",
       "    </tr>\n",
       "    <tr>\n",
       "      <th>Residual</th>\n",
       "      <td>58.0</td>\n",
       "      <td>508106.644444</td>\n",
       "      <td>8760.459387</td>\n",
       "      <td>NaN</td>\n",
       "      <td>NaN</td>\n",
       "    </tr>\n",
       "  </tbody>\n",
       "</table>\n",
       "</div>"
      ],
      "text/plain": [
       "                                 df         sum_sq        mean_sq          F  \\\n",
       "C(Dentist)                      4.0  157794.555556   39448.638889   4.503033   \n",
       "C(Method)                       2.0  593427.488889  296713.744444  33.869656   \n",
       "C(Alloy)                        1.0  105815.511111  105815.511111  12.078763   \n",
       "C(Temp)                         2.0   82178.022222   41089.011111   4.690280   \n",
       "C(Dentist):C(Method):C(Alloy)  22.0  443773.333333   20171.515152   2.302564   \n",
       "Residual                       58.0  508106.644444    8760.459387        NaN   \n",
       "\n",
       "                                     PR(>F)  \n",
       "C(Dentist)                     3.089511e-03  \n",
       "C(Method)                      1.797838e-10  \n",
       "C(Alloy)                       9.723101e-04  \n",
       "C(Temp)                        1.293921e-02  \n",
       "C(Dentist):C(Method):C(Alloy)  5.954248e-03  \n",
       "Residual                                NaN  "
      ]
     },
     "execution_count": 143,
     "metadata": {},
     "output_type": "execute_result"
    }
   ],
   "source": [
    "formula = 'Response ~ C(Dentist) + C(Method) + C(Alloy) + C(Temp) + C(Dentist):C(Method):C(Alloy)'\n",
    "model = ols(formula, df).fit()\n",
    "aov_table = anova_lm(model)\n",
    "(aov_table)"
   ]
  },
  {
   "cell_type": "markdown",
   "id": "5b921bb8",
   "metadata": {},
   "source": [
    "Required assumptions : Whether the hardness of metal implant depends on Temp , alloy and Dentist or not. \n",
    "\n",
    "As we can see P value of Temp , Alloy and Dentist shows as less than 0.05 hence these values have a significant effect and the assumptions is not fulfilled. "
   ]
  },
  {
   "cell_type": "markdown",
   "id": "b513e767",
   "metadata": {},
   "source": [
    "7.3 Irrespective of your conclusion in 2, we will continue with the testing procedure. What do you conclude regarding whether implant hardness depends on dentists? Clearly state your conclusion. If the null hypothesis is rejected, is it possible to identify which pairs of dentists differ?"
   ]
  },
  {
   "cell_type": "code",
   "execution_count": 144,
   "id": "fe0fd43c",
   "metadata": {},
   "outputs": [
    {
     "data": {
      "text/html": [
       "<div>\n",
       "<style scoped>\n",
       "    .dataframe tbody tr th:only-of-type {\n",
       "        vertical-align: middle;\n",
       "    }\n",
       "\n",
       "    .dataframe tbody tr th {\n",
       "        vertical-align: top;\n",
       "    }\n",
       "\n",
       "    .dataframe thead th {\n",
       "        text-align: right;\n",
       "    }\n",
       "</style>\n",
       "<table border=\"1\" class=\"dataframe\">\n",
       "  <thead>\n",
       "    <tr style=\"text-align: right;\">\n",
       "      <th></th>\n",
       "      <th>df</th>\n",
       "      <th>sum_sq</th>\n",
       "      <th>mean_sq</th>\n",
       "      <th>F</th>\n",
       "      <th>PR(&gt;F)</th>\n",
       "    </tr>\n",
       "  </thead>\n",
       "  <tbody>\n",
       "    <tr>\n",
       "      <th>C(Method)</th>\n",
       "      <td>2.0</td>\n",
       "      <td>1.069373e-29</td>\n",
       "      <td>5.346863e-30</td>\n",
       "      <td>2.138745e-30</td>\n",
       "      <td>1.0</td>\n",
       "    </tr>\n",
       "    <tr>\n",
       "      <th>C(Alloy)</th>\n",
       "      <td>1.0</td>\n",
       "      <td>2.359264e-31</td>\n",
       "      <td>2.359264e-31</td>\n",
       "      <td>9.437057e-32</td>\n",
       "      <td>1.0</td>\n",
       "    </tr>\n",
       "    <tr>\n",
       "      <th>C(Temp)</th>\n",
       "      <td>2.0</td>\n",
       "      <td>1.215069e-30</td>\n",
       "      <td>6.075346e-31</td>\n",
       "      <td>2.430138e-31</td>\n",
       "      <td>1.0</td>\n",
       "    </tr>\n",
       "    <tr>\n",
       "      <th>C(Method):C(Alloy):C(Temp)</th>\n",
       "      <td>12.0</td>\n",
       "      <td>2.314388e-29</td>\n",
       "      <td>1.928657e-30</td>\n",
       "      <td>7.714628e-31</td>\n",
       "      <td>1.0</td>\n",
       "    </tr>\n",
       "    <tr>\n",
       "      <th>Residual</th>\n",
       "      <td>72.0</td>\n",
       "      <td>1.800000e+02</td>\n",
       "      <td>2.500000e+00</td>\n",
       "      <td>NaN</td>\n",
       "      <td>NaN</td>\n",
       "    </tr>\n",
       "  </tbody>\n",
       "</table>\n",
       "</div>"
      ],
      "text/plain": [
       "                              df        sum_sq       mean_sq             F  \\\n",
       "C(Method)                    2.0  1.069373e-29  5.346863e-30  2.138745e-30   \n",
       "C(Alloy)                     1.0  2.359264e-31  2.359264e-31  9.437057e-32   \n",
       "C(Temp)                      2.0  1.215069e-30  6.075346e-31  2.430138e-31   \n",
       "C(Method):C(Alloy):C(Temp)  12.0  2.314388e-29  1.928657e-30  7.714628e-31   \n",
       "Residual                    72.0  1.800000e+02  2.500000e+00           NaN   \n",
       "\n",
       "                            PR(>F)  \n",
       "C(Method)                      1.0  \n",
       "C(Alloy)                       1.0  \n",
       "C(Temp)                        1.0  \n",
       "C(Method):C(Alloy):C(Temp)     1.0  \n",
       "Residual                       NaN  "
      ]
     },
     "execution_count": 144,
     "metadata": {},
     "output_type": "execute_result"
    }
   ],
   "source": [
    "formula = 'Dentist ~ C(Method) + C(Alloy)+ C(Temp) + C(Method):C(Alloy):C(Temp)'\n",
    "model = ols(formula, df).fit()\n",
    "aov_table = anova_lm(model)\n",
    "(aov_table)"
   ]
  },
  {
   "cell_type": "code",
   "execution_count": 145,
   "id": "d1388d11",
   "metadata": {},
   "outputs": [
    {
     "data": {
      "text/html": [
       "<div>\n",
       "<style scoped>\n",
       "    .dataframe tbody tr th:only-of-type {\n",
       "        vertical-align: middle;\n",
       "    }\n",
       "\n",
       "    .dataframe tbody tr th {\n",
       "        vertical-align: top;\n",
       "    }\n",
       "\n",
       "    .dataframe thead th {\n",
       "        text-align: right;\n",
       "    }\n",
       "</style>\n",
       "<table border=\"1\" class=\"dataframe\">\n",
       "  <thead>\n",
       "    <tr style=\"text-align: right;\">\n",
       "      <th></th>\n",
       "      <th>df</th>\n",
       "      <th>sum_sq</th>\n",
       "      <th>mean_sq</th>\n",
       "      <th>F</th>\n",
       "      <th>PR(&gt;F)</th>\n",
       "    </tr>\n",
       "  </thead>\n",
       "  <tbody>\n",
       "    <tr>\n",
       "      <th>C(Method)</th>\n",
       "      <td>2.0</td>\n",
       "      <td>1.343240e-29</td>\n",
       "      <td>6.716199e-30</td>\n",
       "      <td>3.134226e-30</td>\n",
       "      <td>1.0</td>\n",
       "    </tr>\n",
       "    <tr>\n",
       "      <th>C(Alloy)</th>\n",
       "      <td>1.0</td>\n",
       "      <td>2.288197e-30</td>\n",
       "      <td>2.288197e-30</td>\n",
       "      <td>1.067825e-30</td>\n",
       "      <td>1.0</td>\n",
       "    </tr>\n",
       "    <tr>\n",
       "      <th>C(Temp)</th>\n",
       "      <td>2.0</td>\n",
       "      <td>2.995977e-30</td>\n",
       "      <td>1.497988e-30</td>\n",
       "      <td>6.990612e-31</td>\n",
       "      <td>1.0</td>\n",
       "    </tr>\n",
       "    <tr>\n",
       "      <th>Residual</th>\n",
       "      <td>84.0</td>\n",
       "      <td>1.800000e+02</td>\n",
       "      <td>2.142857e+00</td>\n",
       "      <td>NaN</td>\n",
       "      <td>NaN</td>\n",
       "    </tr>\n",
       "  </tbody>\n",
       "</table>\n",
       "</div>"
      ],
      "text/plain": [
       "             df        sum_sq       mean_sq             F  PR(>F)\n",
       "C(Method)   2.0  1.343240e-29  6.716199e-30  3.134226e-30     1.0\n",
       "C(Alloy)    1.0  2.288197e-30  2.288197e-30  1.067825e-30     1.0\n",
       "C(Temp)     2.0  2.995977e-30  1.497988e-30  6.990612e-31     1.0\n",
       "Residual   84.0  1.800000e+02  2.142857e+00           NaN     NaN"
      ]
     },
     "execution_count": 145,
     "metadata": {},
     "output_type": "execute_result"
    }
   ],
   "source": [
    "formula = 'Dentist ~ C(Method) + C(Alloy) + C(Temp)'\n",
    "model = ols(formula, df).fit()\n",
    "aov_table = anova_lm(model)\n",
    "(aov_table)"
   ]
  },
  {
   "cell_type": "markdown",
   "id": "f22090ff",
   "metadata": {},
   "source": [
    "We can conclude that implant hardness does not depends on dentists when combind with method and alloy or not as P value is less hence there is no significant cause on dentists with respect to implant hardness. So hypothesis is rejected. \n",
    "\n",
    "The pair of dentists who differ are dentists who use method of implant combined with alloy type and temperature as they differ from dentists who apply their own method. "
   ]
  },
  {
   "cell_type": "markdown",
   "id": "f4ff6066",
   "metadata": {},
   "source": [
    "7.4 Now test whether there is any difference among the methods on the hardness of dental implant, separately for the two types of alloys. What are your conclusions? If the null hypothesis is rejected, is it possible to identify which pairs of methods differ?"
   ]
  },
  {
   "cell_type": "code",
   "execution_count": 146,
   "id": "ec18f7a7",
   "metadata": {},
   "outputs": [
    {
     "data": {
      "text/html": [
       "<div>\n",
       "<style scoped>\n",
       "    .dataframe tbody tr th:only-of-type {\n",
       "        vertical-align: middle;\n",
       "    }\n",
       "\n",
       "    .dataframe tbody tr th {\n",
       "        vertical-align: top;\n",
       "    }\n",
       "\n",
       "    .dataframe thead th {\n",
       "        text-align: right;\n",
       "    }\n",
       "</style>\n",
       "<table border=\"1\" class=\"dataframe\">\n",
       "  <thead>\n",
       "    <tr style=\"text-align: right;\">\n",
       "      <th></th>\n",
       "      <th>df</th>\n",
       "      <th>sum_sq</th>\n",
       "      <th>mean_sq</th>\n",
       "      <th>F</th>\n",
       "      <th>PR(&gt;F)</th>\n",
       "    </tr>\n",
       "  </thead>\n",
       "  <tbody>\n",
       "    <tr>\n",
       "      <th>C(Dentist)</th>\n",
       "      <td>4.0</td>\n",
       "      <td>3.265458e-29</td>\n",
       "      <td>8.163644e-30</td>\n",
       "      <td>8.163644e-30</td>\n",
       "      <td>1.0</td>\n",
       "    </tr>\n",
       "    <tr>\n",
       "      <th>C(Alloy)</th>\n",
       "      <td>1.0</td>\n",
       "      <td>1.525529e-30</td>\n",
       "      <td>1.525529e-30</td>\n",
       "      <td>1.525529e-30</td>\n",
       "      <td>1.0</td>\n",
       "    </tr>\n",
       "    <tr>\n",
       "      <th>C(Temp)</th>\n",
       "      <td>2.0</td>\n",
       "      <td>1.721974e-30</td>\n",
       "      <td>8.609870e-31</td>\n",
       "      <td>8.609870e-31</td>\n",
       "      <td>1.0</td>\n",
       "    </tr>\n",
       "    <tr>\n",
       "      <th>C(Dentist):C(Alloy):C(Temp)</th>\n",
       "      <td>22.0</td>\n",
       "      <td>9.303216e-30</td>\n",
       "      <td>4.228735e-31</td>\n",
       "      <td>4.228735e-31</td>\n",
       "      <td>1.0</td>\n",
       "    </tr>\n",
       "    <tr>\n",
       "      <th>Residual</th>\n",
       "      <td>60.0</td>\n",
       "      <td>6.000000e+01</td>\n",
       "      <td>1.000000e+00</td>\n",
       "      <td>NaN</td>\n",
       "      <td>NaN</td>\n",
       "    </tr>\n",
       "  </tbody>\n",
       "</table>\n",
       "</div>"
      ],
      "text/plain": [
       "                               df        sum_sq       mean_sq             F  \\\n",
       "C(Dentist)                    4.0  3.265458e-29  8.163644e-30  8.163644e-30   \n",
       "C(Alloy)                      1.0  1.525529e-30  1.525529e-30  1.525529e-30   \n",
       "C(Temp)                       2.0  1.721974e-30  8.609870e-31  8.609870e-31   \n",
       "C(Dentist):C(Alloy):C(Temp)  22.0  9.303216e-30  4.228735e-31  4.228735e-31   \n",
       "Residual                     60.0  6.000000e+01  1.000000e+00           NaN   \n",
       "\n",
       "                             PR(>F)  \n",
       "C(Dentist)                      1.0  \n",
       "C(Alloy)                        1.0  \n",
       "C(Temp)                         1.0  \n",
       "C(Dentist):C(Alloy):C(Temp)     1.0  \n",
       "Residual                        NaN  "
      ]
     },
     "execution_count": 146,
     "metadata": {},
     "output_type": "execute_result"
    }
   ],
   "source": [
    "formula = 'Method ~ C(Dentist) + C(Alloy) +C(Temp) + C(Dentist):C(Alloy):C(Temp)'\n",
    "model = ols(formula, df).fit()\n",
    "aov_table = anova_lm(model)\n",
    "(aov_table)"
   ]
  },
  {
   "cell_type": "code",
   "execution_count": 147,
   "id": "5c16f3d2",
   "metadata": {},
   "outputs": [
    {
     "data": {
      "text/html": [
       "<div>\n",
       "<style scoped>\n",
       "    .dataframe tbody tr th:only-of-type {\n",
       "        vertical-align: middle;\n",
       "    }\n",
       "\n",
       "    .dataframe tbody tr th {\n",
       "        vertical-align: top;\n",
       "    }\n",
       "\n",
       "    .dataframe thead th {\n",
       "        text-align: right;\n",
       "    }\n",
       "</style>\n",
       "<table border=\"1\" class=\"dataframe\">\n",
       "  <thead>\n",
       "    <tr style=\"text-align: right;\">\n",
       "      <th></th>\n",
       "      <th>df</th>\n",
       "      <th>sum_sq</th>\n",
       "      <th>mean_sq</th>\n",
       "      <th>F</th>\n",
       "      <th>PR(&gt;F)</th>\n",
       "    </tr>\n",
       "  </thead>\n",
       "  <tbody>\n",
       "    <tr>\n",
       "      <th>C(Dentist)</th>\n",
       "      <td>4.0</td>\n",
       "      <td>3.023869e-29</td>\n",
       "      <td>7.559672e-30</td>\n",
       "      <td>1.033155e-29</td>\n",
       "      <td>1.0</td>\n",
       "    </tr>\n",
       "    <tr>\n",
       "      <th>C(Alloy)</th>\n",
       "      <td>1.0</td>\n",
       "      <td>2.929339e-31</td>\n",
       "      <td>2.929339e-31</td>\n",
       "      <td>4.003431e-31</td>\n",
       "      <td>1.0</td>\n",
       "    </tr>\n",
       "    <tr>\n",
       "      <th>C(Temp)</th>\n",
       "      <td>2.0</td>\n",
       "      <td>5.092159e-31</td>\n",
       "      <td>2.546079e-31</td>\n",
       "      <td>3.479642e-31</td>\n",
       "      <td>1.0</td>\n",
       "    </tr>\n",
       "    <tr>\n",
       "      <th>Residual</th>\n",
       "      <td>82.0</td>\n",
       "      <td>6.000000e+01</td>\n",
       "      <td>7.317073e-01</td>\n",
       "      <td>NaN</td>\n",
       "      <td>NaN</td>\n",
       "    </tr>\n",
       "  </tbody>\n",
       "</table>\n",
       "</div>"
      ],
      "text/plain": [
       "              df        sum_sq       mean_sq             F  PR(>F)\n",
       "C(Dentist)   4.0  3.023869e-29  7.559672e-30  1.033155e-29     1.0\n",
       "C(Alloy)     1.0  2.929339e-31  2.929339e-31  4.003431e-31     1.0\n",
       "C(Temp)      2.0  5.092159e-31  2.546079e-31  3.479642e-31     1.0\n",
       "Residual    82.0  6.000000e+01  7.317073e-01           NaN     NaN"
      ]
     },
     "execution_count": 147,
     "metadata": {},
     "output_type": "execute_result"
    }
   ],
   "source": [
    "formula = 'Method ~ C(Dentist) + C(Alloy) +C(Temp)'\n",
    "model = ols(formula, df).fit()\n",
    "aov_table = anova_lm(model)\n",
    "(aov_table)"
   ]
  },
  {
   "cell_type": "markdown",
   "id": "bee7d788",
   "metadata": {},
   "source": [
    "We can conclude that P value is less than 0.05 hence Null hypothesis is rejected and method which is being used by dentist along with alloy type and temperature differs from methods which is being applied as their favourite method."
   ]
  },
  {
   "cell_type": "markdown",
   "id": "6975185f",
   "metadata": {},
   "source": [
    "7.5 Now test whether there is any difference among the temperature levels on the hardness of dental implant, separately for the two types of alloys. What are your conclusions? If the null hypothesis is rejected, is it possible to identify which levels of temperatures differ?"
   ]
  },
  {
   "cell_type": "code",
   "execution_count": 148,
   "id": "47453d04",
   "metadata": {},
   "outputs": [
    {
     "data": {
      "text/html": [
       "<div>\n",
       "<style scoped>\n",
       "    .dataframe tbody tr th:only-of-type {\n",
       "        vertical-align: middle;\n",
       "    }\n",
       "\n",
       "    .dataframe tbody tr th {\n",
       "        vertical-align: top;\n",
       "    }\n",
       "\n",
       "    .dataframe thead th {\n",
       "        text-align: right;\n",
       "    }\n",
       "</style>\n",
       "<table border=\"1\" class=\"dataframe\">\n",
       "  <thead>\n",
       "    <tr style=\"text-align: right;\">\n",
       "      <th></th>\n",
       "      <th>df</th>\n",
       "      <th>sum_sq</th>\n",
       "      <th>mean_sq</th>\n",
       "      <th>F</th>\n",
       "      <th>PR(&gt;F)</th>\n",
       "    </tr>\n",
       "  </thead>\n",
       "  <tbody>\n",
       "    <tr>\n",
       "      <th>C(Dentist)</th>\n",
       "      <td>4.0</td>\n",
       "      <td>2.648573e-24</td>\n",
       "      <td>6.621431e-25</td>\n",
       "      <td>9.049289e-29</td>\n",
       "      <td>1.0</td>\n",
       "    </tr>\n",
       "    <tr>\n",
       "      <th>C(Method)</th>\n",
       "      <td>2.0</td>\n",
       "      <td>7.223105e-25</td>\n",
       "      <td>3.611552e-25</td>\n",
       "      <td>4.935788e-29</td>\n",
       "      <td>1.0</td>\n",
       "    </tr>\n",
       "    <tr>\n",
       "      <th>C(Alloy)</th>\n",
       "      <td>1.0</td>\n",
       "      <td>1.192178e-25</td>\n",
       "      <td>1.192178e-25</td>\n",
       "      <td>1.629310e-29</td>\n",
       "      <td>1.0</td>\n",
       "    </tr>\n",
       "    <tr>\n",
       "      <th>Residual</th>\n",
       "      <td>82.0</td>\n",
       "      <td>6.000000e+05</td>\n",
       "      <td>7.317073e+03</td>\n",
       "      <td>NaN</td>\n",
       "      <td>NaN</td>\n",
       "    </tr>\n",
       "  </tbody>\n",
       "</table>\n",
       "</div>"
      ],
      "text/plain": [
       "              df        sum_sq       mean_sq             F  PR(>F)\n",
       "C(Dentist)   4.0  2.648573e-24  6.621431e-25  9.049289e-29     1.0\n",
       "C(Method)    2.0  7.223105e-25  3.611552e-25  4.935788e-29     1.0\n",
       "C(Alloy)     1.0  1.192178e-25  1.192178e-25  1.629310e-29     1.0\n",
       "Residual    82.0  6.000000e+05  7.317073e+03           NaN     NaN"
      ]
     },
     "execution_count": 148,
     "metadata": {},
     "output_type": "execute_result"
    }
   ],
   "source": [
    "formula = 'Temp ~ C(Dentist) + C(Method) + C(Alloy)'\n",
    "model = ols(formula, df).fit()\n",
    "aov_table = anova_lm(model)\n",
    "(aov_table)"
   ]
  },
  {
   "cell_type": "code",
   "execution_count": 149,
   "id": "c682e124",
   "metadata": {},
   "outputs": [
    {
     "data": {
      "text/html": [
       "<div>\n",
       "<style scoped>\n",
       "    .dataframe tbody tr th:only-of-type {\n",
       "        vertical-align: middle;\n",
       "    }\n",
       "\n",
       "    .dataframe tbody tr th {\n",
       "        vertical-align: top;\n",
       "    }\n",
       "\n",
       "    .dataframe thead th {\n",
       "        text-align: right;\n",
       "    }\n",
       "</style>\n",
       "<table border=\"1\" class=\"dataframe\">\n",
       "  <thead>\n",
       "    <tr style=\"text-align: right;\">\n",
       "      <th></th>\n",
       "      <th>df</th>\n",
       "      <th>sum_sq</th>\n",
       "      <th>mean_sq</th>\n",
       "      <th>F</th>\n",
       "      <th>PR(&gt;F)</th>\n",
       "    </tr>\n",
       "  </thead>\n",
       "  <tbody>\n",
       "    <tr>\n",
       "      <th>C(Dentist)</th>\n",
       "      <td>4.0</td>\n",
       "      <td>2.877077e-24</td>\n",
       "      <td>7.192693e-25</td>\n",
       "      <td>7.192693e-29</td>\n",
       "      <td>1.0</td>\n",
       "    </tr>\n",
       "    <tr>\n",
       "      <th>C(Method)</th>\n",
       "      <td>2.0</td>\n",
       "      <td>1.511776e-24</td>\n",
       "      <td>7.558878e-25</td>\n",
       "      <td>7.558878e-29</td>\n",
       "      <td>1.0</td>\n",
       "    </tr>\n",
       "    <tr>\n",
       "      <th>C(Alloy)</th>\n",
       "      <td>1.0</td>\n",
       "      <td>8.895026e-27</td>\n",
       "      <td>8.895026e-27</td>\n",
       "      <td>8.895026e-31</td>\n",
       "      <td>1.0</td>\n",
       "    </tr>\n",
       "    <tr>\n",
       "      <th>C(Dentist):C(Method):C(Alloy)</th>\n",
       "      <td>22.0</td>\n",
       "      <td>3.128737e-24</td>\n",
       "      <td>1.422153e-25</td>\n",
       "      <td>1.422153e-29</td>\n",
       "      <td>1.0</td>\n",
       "    </tr>\n",
       "    <tr>\n",
       "      <th>Residual</th>\n",
       "      <td>60.0</td>\n",
       "      <td>6.000000e+05</td>\n",
       "      <td>1.000000e+04</td>\n",
       "      <td>NaN</td>\n",
       "      <td>NaN</td>\n",
       "    </tr>\n",
       "  </tbody>\n",
       "</table>\n",
       "</div>"
      ],
      "text/plain": [
       "                                 df        sum_sq       mean_sq             F  \\\n",
       "C(Dentist)                      4.0  2.877077e-24  7.192693e-25  7.192693e-29   \n",
       "C(Method)                       2.0  1.511776e-24  7.558878e-25  7.558878e-29   \n",
       "C(Alloy)                        1.0  8.895026e-27  8.895026e-27  8.895026e-31   \n",
       "C(Dentist):C(Method):C(Alloy)  22.0  3.128737e-24  1.422153e-25  1.422153e-29   \n",
       "Residual                       60.0  6.000000e+05  1.000000e+04           NaN   \n",
       "\n",
       "                               PR(>F)  \n",
       "C(Dentist)                        1.0  \n",
       "C(Method)                         1.0  \n",
       "C(Alloy)                          1.0  \n",
       "C(Dentist):C(Method):C(Alloy)     1.0  \n",
       "Residual                          NaN  "
      ]
     },
     "execution_count": 149,
     "metadata": {},
     "output_type": "execute_result"
    }
   ],
   "source": [
    "formula = 'Temp ~ C(Dentist) + C(Method) + C(Alloy) + C(Dentist):C(Method):C(Alloy)'\n",
    "model = ols(formula, df).fit()\n",
    "aov_table = anova_lm(model)\n",
    "(aov_table)"
   ]
  },
  {
   "cell_type": "markdown",
   "id": "22ba25e9",
   "metadata": {},
   "source": [
    "No. There is no significant difference among the temperature levels on the hardness of dental implant. So the null hypothesis is rejected. \n",
    "\n",
    "We can conclude that the levels of temperature does not differ. "
   ]
  },
  {
   "cell_type": "markdown",
   "id": "b3d8f803",
   "metadata": {},
   "source": [
    "7.6 Consider the interaction effect of dentist and method and comment on the interaction plot, separately for the two types of alloys?"
   ]
  },
  {
   "cell_type": "code",
   "execution_count": 150,
   "id": "4e410e51",
   "metadata": {},
   "outputs": [
    {
     "data": {
      "image/png": "[encoded data removed]",
      "text/plain": [
       "<Figure size 432x288 with 1 Axes>"
      ]
     },
     "metadata": {
      "needs_background": "light"
     },
     "output_type": "display_data"
    }
   ],
   "source": [
    "sns.pointplot(x='Dentist', y='Method', data=df , hue='Alloy');"
   ]
  },
  {
   "cell_type": "code",
   "execution_count": 151,
   "id": "1f383fad",
   "metadata": {},
   "outputs": [
    {
     "data": {
      "image/png": "[encoded data removed]",
      "text/plain": [
       "<Figure size 432x288 with 1 Axes>"
      ]
     },
     "metadata": {
      "needs_background": "light"
     },
     "output_type": "display_data"
    }
   ],
   "source": [
    "sns.pointplot(x='Dentist', y='Method', data=df , hue='Alloy',ci=None);"
   ]
  },
  {
   "cell_type": "markdown",
   "id": "4ca99c20",
   "metadata": {},
   "source": [
    "From the plot, we can see that only Alloy 2 has an interaction between Dentist and Method and Alloy 1 has no interaction between dentist and Method."
   ]
  },
  {
   "cell_type": "markdown",
   "id": "7e585259",
   "metadata": {},
   "source": [
    "7.7 Now consider the effect of both factors, dentist, and method, separately on each alloy. What do you conclude? Is it possible to identify which dentists are different, which methods are different, and which interaction levels are different?"
   ]
  },
  {
   "cell_type": "code",
   "execution_count": 152,
   "id": "06987145",
   "metadata": {},
   "outputs": [
    {
     "data": {
      "image/png": "[encoded data removed]",
      "text/plain": [
       "<Figure size 432x288 with 1 Axes>"
      ]
     },
     "metadata": {
      "needs_background": "light"
     },
     "output_type": "display_data"
    }
   ],
   "source": [
    "sns.pointplot(x='Alloy', y='Temp', data=df, hue='Dentist');"
   ]
  },
  {
   "cell_type": "code",
   "execution_count": 153,
   "id": "562a5e89",
   "metadata": {},
   "outputs": [
    {
     "data": {
      "image/png": "[encoded data removed]",
      "text/plain": [
       "<Figure size 432x288 with 1 Axes>"
      ]
     },
     "metadata": {
      "needs_background": "light"
     },
     "output_type": "display_data"
    }
   ],
   "source": [
    "sns.pointplot(x='Alloy', y='Temp', data=df, hue='Dentist', ci=None);"
   ]
  },
  {
   "cell_type": "code",
   "execution_count": 154,
   "id": "45bd2682",
   "metadata": {},
   "outputs": [
    {
     "data": {
      "image/png": "[encoded data removed]",
      "text/plain": [
       "<Figure size 432x288 with 1 Axes>"
      ]
     },
     "metadata": {
      "needs_background": "light"
     },
     "output_type": "display_data"
    }
   ],
   "source": [
    "sns.pointplot(x='Alloy', y='Temp', data=df, hue='Method');"
   ]
  },
  {
   "cell_type": "code",
   "execution_count": 155,
   "id": "cdcfb341",
   "metadata": {},
   "outputs": [
    {
     "data": {
      "image/png": "[encoded data removed]",
      "text/plain": [
       "<Figure size 432x288 with 1 Axes>"
      ]
     },
     "metadata": {
      "needs_background": "light"
     },
     "output_type": "display_data"
    }
   ],
   "source": [
    "sns.pointplot(x='Alloy', y='Temp', data=df, hue='Method',ci=None);"
   ]
  },
  {
   "cell_type": "markdown",
   "id": "1a1f2275",
   "metadata": {},
   "source": [
    "We can conclude that dentist 1 , 2 , 3 , 4 are different and method 1 and 2 are different and interaction levels between dentist and method on differnet alloy is different. Only dentist 5 and method 3 has an interaction. "
   ]
  }
 ],
 "metadata": {
  "kernelspec": {
   "display_name": "Python 3 (ipykernel)",
   "language": "python",
   "name": "python3"
  },
  "language_info": {
   "codemirror_mode": {
    "name": "ipython",
    "version": 3
   },
   "file_extension": ".py",
   "mimetype": "text/x-python",
   "name": "python",
   "nbconvert_exporter": "python",
   "pygments_lexer": "ipython3",
   "version": "3.9.12"
  }
 },
 "nbformat": 4,
 "nbformat_minor": 5
}
